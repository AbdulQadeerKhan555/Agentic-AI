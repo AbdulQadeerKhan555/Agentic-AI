{
  "nbformat": 4,
  "nbformat_minor": 0,
  "metadata": {
    "colab": {
      "provenance": [],
      "authorship_tag": "ABX9TyNuhFH8OeTFtz9H96gha8YR",
      "include_colab_link": true
    },
    "kernelspec": {
      "name": "python3",
      "display_name": "Python 3"
    },
    "language_info": {
      "name": "python"
    }
  },
  "cells": [
    {
      "cell_type": "markdown",
      "metadata": {
        "id": "view-in-github",
        "colab_type": "text"
      },
      "source": [
        "<a href=\"https://colab.research.google.com/github/AbdulQadeerKhan555/Agentic-AI/blob/main/0_Hello_agent.ipynb\" target=\"_parent\"><img src=\"https://colab.research.google.com/assets/colab-badge.svg\" alt=\"Open In Colab\"/></a>"
      ]
    },
    {
      "cell_type": "markdown",
      "source": [
        "**Installation of openai agents**"
      ],
      "metadata": {
        "id": "SsIMbWxTitVj"
      }
    },
    {
      "cell_type": "code",
      "execution_count": 1,
      "metadata": {
        "id": "BKLOCNIMrdrw",
        "colab": {
          "base_uri": "https://localhost:8080/"
        },
        "outputId": "84e606a4-e382-47c3-fc27-4db6f844588c"
      },
      "outputs": [
        {
          "output_type": "stream",
          "name": "stdout",
          "text": [
            "\u001b[2K     \u001b[90m━━━━━━━━━━━━━━━━━━━━━━━━━━━━━━━━━━━━━━━━\u001b[0m \u001b[32m61.0/61.0 kB\u001b[0m \u001b[31m3.2 MB/s\u001b[0m eta \u001b[36m0:00:00\u001b[0m\n",
            "\u001b[2K   \u001b[90m━━━━━━━━━━━━━━━━━━━━━━━━━━━━━━━━━━━━━━━━\u001b[0m \u001b[32m164.3/164.3 kB\u001b[0m \u001b[31m7.8 MB/s\u001b[0m eta \u001b[36m0:00:00\u001b[0m\n",
            "\u001b[2K   \u001b[90m━━━━━━━━━━━━━━━━━━━━━━━━━━━━━━━━━━━━━━━━\u001b[0m \u001b[32m137.1/137.1 kB\u001b[0m \u001b[31m9.8 MB/s\u001b[0m eta \u001b[36m0:00:00\u001b[0m\n",
            "\u001b[2K   \u001b[90m━━━━━━━━━━━━━━━━━━━━━━━━━━━━━━━━━━━━━━━━\u001b[0m \u001b[32m158.5/158.5 kB\u001b[0m \u001b[31m9.6 MB/s\u001b[0m eta \u001b[36m0:00:00\u001b[0m\n",
            "\u001b[2K   \u001b[90m━━━━━━━━━━━━━━━━━━━━━━━━━━━━━━━━━━━━━━━━\u001b[0m \u001b[32m45.2/45.2 kB\u001b[0m \u001b[31m2.9 MB/s\u001b[0m eta \u001b[36m0:00:00\u001b[0m\n",
            "\u001b[?25h"
          ]
        }
      ],
      "source": [
        "!pip install -Uq openai-agents"
      ]
    },
    {
      "cell_type": "markdown",
      "source": [
        "**Import asyncronous function**"
      ],
      "metadata": {
        "id": "wdeQLoUci6wP"
      }
    },
    {
      "cell_type": "code",
      "source": [
        "import nest_asyncio\n",
        "nest_asyncio.apply()"
      ],
      "metadata": {
        "id": "Cz_MkT4Ui2U8"
      },
      "execution_count": 2,
      "outputs": []
    },
    {
      "cell_type": "markdown",
      "source": [
        "**Import main things**"
      ],
      "metadata": {
        "id": "yvnP29dVjY_N"
      }
    },
    {
      "cell_type": "code",
      "source": [
        "from agents import Agent, Runner, AsyncOpenAI, OpenAIChatCompletionsModel, set_tracing_disabled"
      ],
      "metadata": {
        "id": "wDmgOQYLjgyy"
      },
      "execution_count": 3,
      "outputs": []
    },
    {
      "cell_type": "markdown",
      "source": [
        "**API Key setting**"
      ],
      "metadata": {
        "id": "O_Gy0rLNj9sd"
      }
    },
    {
      "cell_type": "code",
      "source": [
        "from google.colab import userdata\n",
        "gemini_api_key = userdata.get('GEMINI_API_KEY')"
      ],
      "metadata": {
        "id": "bDvCRRK_kCYf"
      },
      "execution_count": 4,
      "outputs": []
    },
    {
      "cell_type": "markdown",
      "source": [
        "**Step 2: Client Setup for connecting to Gemini**"
      ],
      "metadata": {
        "id": "WZp8TzgzlGYZ"
      }
    },
    {
      "cell_type": "code",
      "source": [
        "# To disable tracing\n",
        "set_tracing_disabled(disabled=True)\n",
        "\n",
        "# Create a client/ Which LLM service?\n",
        "external_client: AsyncOpenAI = AsyncOpenAI(\n",
        "    api_key = gemini_api_key,\n",
        "    base_url=\"https://generativelanguage.googleapis.com/v1beta/openai/\",\n",
        ")\n",
        "# Which LLM Model?\n",
        "model_of_llm: OpenAIChatCompletionsModel = OpenAIChatCompletionsModel(\n",
        "    model = \"gemini-2.5-flash\",\n",
        "    openai_client=external_client\n",
        ")"
      ],
      "metadata": {
        "id": "xV-o63DqlR27"
      },
      "execution_count": 5,
      "outputs": []
    },
    {
      "cell_type": "markdown",
      "source": [
        "**Step 3: Running Agent Synchronously**"
      ],
      "metadata": {
        "id": "bhUy9cZOm9So"
      }
    },
    {
      "cell_type": "code",
      "source": [
        "from agents import Agent, Runner\n",
        "\n",
        "math_agent : Agent = Agent(\n",
        "    name = \"MathAgent\",\n",
        "    instructions = \"You are a math assistant\",\n",
        "    model = model_of_llm\n",
        ")\n",
        "result: Runner = Runner.run_sync(\n",
        "    math_agent, \"Why we learn math for AI agents. answer in 3 lines\"\n",
        ")\n",
        "print(\"\\nCALLING AGENT\\n\")\n",
        "print(result.final_output)"
      ],
      "metadata": {
        "colab": {
          "base_uri": "https://localhost:8080/"
        },
        "id": "N-LQUxCGnHlE",
        "outputId": "cfccfc65-aa97-4526-b6da-d06e46a4c64a"
      },
      "execution_count": 6,
      "outputs": [
        {
          "output_type": "stream",
          "name": "stdout",
          "text": [
            "\n",
            "CALLING AGENT\n",
            "\n",
            "Mathematics provides the foundational logic and algorithms for AI's core operations.\n",
            "It underpins data analysis, pattern recognition, and decision-making processes within agents.\n",
            "Crucially, it enables AI to learn, optimize, and generalize effectively from data.\n"
          ]
        }
      ]
    },
    {
      "cell_type": "markdown",
      "source": [
        "**Running Agent Asynchronously**"
      ],
      "metadata": {
        "id": "rItaPPk6upSC"
      }
    },
    {
      "cell_type": "code",
      "source": [
        "from agents import Agent, Runner\n",
        "\n",
        "async def main():\n",
        "  result: Runner =await Runner.run(\n",
        "    math_agent, \"Tell me about recursion in programming.\" )\n",
        "  print(result.final_output)\n",
        "\n",
        "asyncio.run(main())"
      ],
      "metadata": {
        "id": "Ge-fgCm_uwzg"
      },
      "execution_count": null,
      "outputs": []
    },
    {
      "cell_type": "markdown",
      "source": [
        "**Recipe Bot**"
      ],
      "metadata": {
        "id": "k_8th6eDxle1"
      }
    },
    {
      "cell_type": "code",
      "source": [
        "set_tracing_disabled(disabled=True)\n",
        "# external client setting/ which llm service\n",
        "external_client: AsyncOpenAI = AsyncOpenAI(\n",
        "    api_key=gemini_api_key,\n",
        "    base_url=\"https://generativelanguage.googleapis.com/v1beta/openai/\",\n",
        ")\n",
        "# Which llm model\n",
        "model_of_llm: OpenAIChatCompletionsModel = OpenAIChatCompletionsModel(\n",
        "    model = \"gemini-2.5-flash\",\n",
        "    openai_client=external_client\n",
        ")\n",
        "# Creating agent\n",
        "def main():\n",
        "  agent: Agent = Agent(\n",
        "      name = \"Recipe Bot\",\n",
        "      instructions = \"\"\"You are a recipe agent. A user will give you few ingridents that\n",
        "       are available at home. you have to seggest a simple and quick receipe from those things.\n",
        "       keep the recipe short, step by step and easy to cook for beginner.\"\"\" ,\n",
        "      model = model_of_llm\n",
        "  )\n",
        "  print(\"What can i cook today? \\n\")\n",
        "  ingridient = \"eggs, tomatos, onions and bread\"\n",
        "  result: Runner = Runner.run_sync(agent,f\"I have these ingridients {ingridient} at home. what can i cook\")\n",
        "  print(result.final_output)\n",
        "\n",
        "main()"
      ],
      "metadata": {
        "colab": {
          "base_uri": "https://localhost:8080/"
        },
        "id": "InZwpSI-xkeU",
        "outputId": "f291ab5d-cbea-47e5-8175-b343a8e2aa4c"
      },
      "execution_count": 9,
      "outputs": [
        {
          "output_type": "stream",
          "name": "stdout",
          "text": [
            "What can i cook today? \n",
            "\n",
            "You can make a delicious and quick **Savory Scrambled Eggs with Veggies and Toast**!\n",
            "\n",
            "Here's how:\n",
            "\n",
            "**Ingredients:**\n",
            "*   2-3 Eggs\n",
            "*   1/4 Onion\n",
            "*   1/2 Tomato\n",
            "*   2 Slices of Bread\n",
            "*   1 tablespoon Oil or Butter (for cooking)\n",
            "*   Salt and Pepper to taste\n",
            "\n",
            "**Instructions:**\n",
            "\n",
            "1.  **Prep the Veggies:** Finely chop the onion and tomato.\n",
            "2.  **Sauté the Veggies:** Heat oil/butter in a pan over medium heat. Add the chopped onion and cook for 2-3 minutes until it softens. Then, add the chopped tomato and cook for another 2 minutes until it softens slightly.\n",
            "3.  **Whisk the Eggs:** While the veggies are cooking, crack the eggs into a bowl, add a pinch of salt and pepper, and whisk them well with a fork until the yolks and whites are combined.\n",
            "4.  **Cook the Eggs:** Pour the whisked eggs over the cooked vegetables in the pan. Let it sit for 15-20 seconds without stirring, then gently push the cooked parts from the edges to the center, allowing the uncooked egg to flow underneath. Continue stirring gently until the eggs are cooked to your desired consistency (fluffy and slightly moist).\n",
            "5.  **Toast the Bread:** While the eggs are finishing, toast your bread in a toaster or pan.\n",
            "6.  **Serve:** Transfer the savory scrambled eggs to a plate and serve immediately with your toasted bread. Enjoy!\n"
          ]
        }
      ]
    }
  ]
}